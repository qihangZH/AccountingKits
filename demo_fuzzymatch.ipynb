{
 "cells": [
  {
   "cell_type": "code",
   "execution_count": 1,
   "metadata": {
    "collapsed": true
   },
   "outputs": [],
   "source": [
    "import accountingkits as ak\n",
    "import rapidfuzz"
   ]
  },
  {
   "cell_type": "code",
   "execution_count": 2,
   "outputs": [],
   "source": [
    "list_1 = [\n",
    "    \"exploring new places\",\n",
    "    \"enjoying the sunshine\",\n",
    "    \"learning something new\",\n",
    "    \"connecting with friends\",\n",
    "    \"creating memorable moments\",\n",
    "    \"finding joy in small things\",\n",
    "    \"embracing new experiences\",\n",
    "    \"adventuring into the unknown\",\n",
    "    \"appreciating the present\",\n",
    "    \"making the most of every day\",\n",
    "    None\n",
    "]\n",
    "\n",
    "list_2 = [\n",
    "    \"exporing new placess\",\n",
    "    \"enjoying the sunshien\",\n",
    "    \"learnin somthing new\",\n",
    "    \"connectin with frends\",\n",
    "    \"creatng memorable momnts\",\n",
    "    \"finding joy in smal things\",\n",
    "    \"embracin new experinces\",\n",
    "    \"adventurin into the unknow\",\n",
    "    \"appreciatin the present\",\n",
    "    \"makn the most of every day\",\n",
    "    \"makn the most of every day\"\n",
    "]"
   ],
   "metadata": {
    "collapsed": false
   }
  },
  {
   "cell_type": "code",
   "execution_count": 3,
   "outputs": [
    {
     "name": "stdout",
     "output_type": "stream",
     "text": [
      "\n",
      "Duplicates or Null/Na in querying are detected and automatically removed\n",
      "\n",
      "\n",
      "Duplicates or Null/Na in choices are detected and automatically removed\n",
      "\n"
     ]
    },
    {
     "name": "stderr",
     "output_type": "stream",
     "text": [
      "100%|██████████| 4/4 [00:00<00:00, 255.87it/s]\n"
     ]
    },
    {
     "data": {
      "text/plain": "                   origin_query                  match_list  match_score\n0          exploring new places        exporing new placess    95.000000\n1         enjoying the sunshine       enjoying the sunshien    95.238098\n2        learning something new        learnin somthing new    95.238098\n3       connecting with friends       connectin with frends    95.454544\n4    creating memorable moments    creatng memorable momnts    96.000000\n5   finding joy in small things  finding joy in smal things    98.113205\n6     embracing new experiences     embracin new experinces    95.833336\n7  adventuring into the unknown  adventurin into the unknow    96.296295\n8      appreciating the present     appreciatin the present    97.872337\n9  making the most of every day  makn the most of every day    96.296295",
      "text/html": "<div>\n<style scoped>\n    .dataframe tbody tr th:only-of-type {\n        vertical-align: middle;\n    }\n\n    .dataframe tbody tr th {\n        vertical-align: top;\n    }\n\n    .dataframe thead th {\n        text-align: right;\n    }\n</style>\n<table border=\"1\" class=\"dataframe\">\n  <thead>\n    <tr style=\"text-align: right;\">\n      <th></th>\n      <th>origin_query</th>\n      <th>match_list</th>\n      <th>match_score</th>\n    </tr>\n  </thead>\n  <tbody>\n    <tr>\n      <th>0</th>\n      <td>exploring new places</td>\n      <td>exporing new placess</td>\n      <td>95.000000</td>\n    </tr>\n    <tr>\n      <th>1</th>\n      <td>enjoying the sunshine</td>\n      <td>enjoying the sunshien</td>\n      <td>95.238098</td>\n    </tr>\n    <tr>\n      <th>2</th>\n      <td>learning something new</td>\n      <td>learnin somthing new</td>\n      <td>95.238098</td>\n    </tr>\n    <tr>\n      <th>3</th>\n      <td>connecting with friends</td>\n      <td>connectin with frends</td>\n      <td>95.454544</td>\n    </tr>\n    <tr>\n      <th>4</th>\n      <td>creating memorable moments</td>\n      <td>creatng memorable momnts</td>\n      <td>96.000000</td>\n    </tr>\n    <tr>\n      <th>5</th>\n      <td>finding joy in small things</td>\n      <td>finding joy in smal things</td>\n      <td>98.113205</td>\n    </tr>\n    <tr>\n      <th>6</th>\n      <td>embracing new experiences</td>\n      <td>embracin new experinces</td>\n      <td>95.833336</td>\n    </tr>\n    <tr>\n      <th>7</th>\n      <td>adventuring into the unknown</td>\n      <td>adventurin into the unknow</td>\n      <td>96.296295</td>\n    </tr>\n    <tr>\n      <th>8</th>\n      <td>appreciating the present</td>\n      <td>appreciatin the present</td>\n      <td>97.872337</td>\n    </tr>\n    <tr>\n      <th>9</th>\n      <td>making the most of every day</td>\n      <td>makn the most of every day</td>\n      <td>96.296295</td>\n    </tr>\n  </tbody>\n</table>\n</div>"
     },
     "execution_count": 3,
     "metadata": {},
     "output_type": "execute_result"
    }
   ],
   "source": [
    "ak.DataPrepare.FuzzyMatchT.list_fuzzymatch_max_df(\n",
    "    querying_listarr=list_1,\n",
    "    choice_list=list_2,\n",
    "    scorer=rapidfuzz.fuzz.ratio,\n",
    "    processes=10,\n",
    "    chunksize=3\n",
    ")"
   ],
   "metadata": {
    "collapsed": false
   }
  },
  {
   "cell_type": "code",
   "execution_count": 4,
   "outputs": [
    {
     "name": "stdout",
     "output_type": "stream",
     "text": [
      "\n",
      "Duplicates or Null/Na in querying are detected and automatically removed\n",
      "\n",
      "\n",
      "Duplicates or Null/Na in choices are detected and automatically removed\n",
      "\n"
     ]
    },
    {
     "name": "stderr",
     "output_type": "stream",
     "text": [
      "100%|██████████| 4/4 [00:00<00:00, 128.00it/s]\n"
     ]
    },
    {
     "data": {
      "text/plain": "                    origin_query                  match_list  match_score\n0          enjoying the sunshine       enjoying the sunshien    95.238098\n1          enjoying the sunshine  adventurin into the unknow    51.063831\n2          enjoying the sunshine        exporing new placess    48.780487\n3           exploring new places        exporing new placess    95.000000\n4           exploring new places     embracin new experinces    60.465115\n5           exploring new places     appreciatin the present    46.511627\n6         learning something new        learnin somthing new    95.238098\n7         learning something new       enjoying the sunshien    51.162792\n8         learning something new  finding joy in smal things    50.000000\n9        connecting with friends       connectin with frends    95.454544\n10       connecting with friends     appreciatin the present    52.173912\n11       connecting with friends       enjoying the sunshien    50.000000\n12    creating memorable moments    creatng memorable momnts    96.000000\n13    creating memorable moments     appreciatin the present    53.061226\n14    creating memorable moments       connectin with frends    42.553192\n15   finding joy in small things  finding joy in smal things    98.113205\n16   finding joy in small things        learnin somthing new    46.808510\n17   finding joy in small things       enjoying the sunshien    45.833332\n18  adventuring into the unknown  adventurin into the unknow    96.296295\n19  adventuring into the unknown       enjoying the sunshien    53.061226\n20  adventuring into the unknown        learnin somthing new    45.833332\n21      appreciating the present     appreciatin the present    97.872337\n22      appreciating the present       enjoying the sunshien    53.333332\n23      appreciating the present       connectin with frends    53.333332\n24     embracing new experiences     embracin new experinces    95.833336\n25     embracing new experiences        exporing new placess    62.222221\n26     embracing new experiences       connectin with frends    47.826088\n27  making the most of every day  makn the most of every day    96.296295\n28  making the most of every day       enjoying the sunshien    40.816326\n29  making the most of every day     embracin new experinces    39.215687",
      "text/html": "<div>\n<style scoped>\n    .dataframe tbody tr th:only-of-type {\n        vertical-align: middle;\n    }\n\n    .dataframe tbody tr th {\n        vertical-align: top;\n    }\n\n    .dataframe thead th {\n        text-align: right;\n    }\n</style>\n<table border=\"1\" class=\"dataframe\">\n  <thead>\n    <tr style=\"text-align: right;\">\n      <th></th>\n      <th>origin_query</th>\n      <th>match_list</th>\n      <th>match_score</th>\n    </tr>\n  </thead>\n  <tbody>\n    <tr>\n      <th>0</th>\n      <td>enjoying the sunshine</td>\n      <td>enjoying the sunshien</td>\n      <td>95.238098</td>\n    </tr>\n    <tr>\n      <th>1</th>\n      <td>enjoying the sunshine</td>\n      <td>adventurin into the unknow</td>\n      <td>51.063831</td>\n    </tr>\n    <tr>\n      <th>2</th>\n      <td>enjoying the sunshine</td>\n      <td>exporing new placess</td>\n      <td>48.780487</td>\n    </tr>\n    <tr>\n      <th>3</th>\n      <td>exploring new places</td>\n      <td>exporing new placess</td>\n      <td>95.000000</td>\n    </tr>\n    <tr>\n      <th>4</th>\n      <td>exploring new places</td>\n      <td>embracin new experinces</td>\n      <td>60.465115</td>\n    </tr>\n    <tr>\n      <th>5</th>\n      <td>exploring new places</td>\n      <td>appreciatin the present</td>\n      <td>46.511627</td>\n    </tr>\n    <tr>\n      <th>6</th>\n      <td>learning something new</td>\n      <td>learnin somthing new</td>\n      <td>95.238098</td>\n    </tr>\n    <tr>\n      <th>7</th>\n      <td>learning something new</td>\n      <td>enjoying the sunshien</td>\n      <td>51.162792</td>\n    </tr>\n    <tr>\n      <th>8</th>\n      <td>learning something new</td>\n      <td>finding joy in smal things</td>\n      <td>50.000000</td>\n    </tr>\n    <tr>\n      <th>9</th>\n      <td>connecting with friends</td>\n      <td>connectin with frends</td>\n      <td>95.454544</td>\n    </tr>\n    <tr>\n      <th>10</th>\n      <td>connecting with friends</td>\n      <td>appreciatin the present</td>\n      <td>52.173912</td>\n    </tr>\n    <tr>\n      <th>11</th>\n      <td>connecting with friends</td>\n      <td>enjoying the sunshien</td>\n      <td>50.000000</td>\n    </tr>\n    <tr>\n      <th>12</th>\n      <td>creating memorable moments</td>\n      <td>creatng memorable momnts</td>\n      <td>96.000000</td>\n    </tr>\n    <tr>\n      <th>13</th>\n      <td>creating memorable moments</td>\n      <td>appreciatin the present</td>\n      <td>53.061226</td>\n    </tr>\n    <tr>\n      <th>14</th>\n      <td>creating memorable moments</td>\n      <td>connectin with frends</td>\n      <td>42.553192</td>\n    </tr>\n    <tr>\n      <th>15</th>\n      <td>finding joy in small things</td>\n      <td>finding joy in smal things</td>\n      <td>98.113205</td>\n    </tr>\n    <tr>\n      <th>16</th>\n      <td>finding joy in small things</td>\n      <td>learnin somthing new</td>\n      <td>46.808510</td>\n    </tr>\n    <tr>\n      <th>17</th>\n      <td>finding joy in small things</td>\n      <td>enjoying the sunshien</td>\n      <td>45.833332</td>\n    </tr>\n    <tr>\n      <th>18</th>\n      <td>adventuring into the unknown</td>\n      <td>adventurin into the unknow</td>\n      <td>96.296295</td>\n    </tr>\n    <tr>\n      <th>19</th>\n      <td>adventuring into the unknown</td>\n      <td>enjoying the sunshien</td>\n      <td>53.061226</td>\n    </tr>\n    <tr>\n      <th>20</th>\n      <td>adventuring into the unknown</td>\n      <td>learnin somthing new</td>\n      <td>45.833332</td>\n    </tr>\n    <tr>\n      <th>21</th>\n      <td>appreciating the present</td>\n      <td>appreciatin the present</td>\n      <td>97.872337</td>\n    </tr>\n    <tr>\n      <th>22</th>\n      <td>appreciating the present</td>\n      <td>enjoying the sunshien</td>\n      <td>53.333332</td>\n    </tr>\n    <tr>\n      <th>23</th>\n      <td>appreciating the present</td>\n      <td>connectin with frends</td>\n      <td>53.333332</td>\n    </tr>\n    <tr>\n      <th>24</th>\n      <td>embracing new experiences</td>\n      <td>embracin new experinces</td>\n      <td>95.833336</td>\n    </tr>\n    <tr>\n      <th>25</th>\n      <td>embracing new experiences</td>\n      <td>exporing new placess</td>\n      <td>62.222221</td>\n    </tr>\n    <tr>\n      <th>26</th>\n      <td>embracing new experiences</td>\n      <td>connectin with frends</td>\n      <td>47.826088</td>\n    </tr>\n    <tr>\n      <th>27</th>\n      <td>making the most of every day</td>\n      <td>makn the most of every day</td>\n      <td>96.296295</td>\n    </tr>\n    <tr>\n      <th>28</th>\n      <td>making the most of every day</td>\n      <td>enjoying the sunshien</td>\n      <td>40.816326</td>\n    </tr>\n    <tr>\n      <th>29</th>\n      <td>making the most of every day</td>\n      <td>embracin new experinces</td>\n      <td>39.215687</td>\n    </tr>\n  </tbody>\n</table>\n</div>"
     },
     "execution_count": 4,
     "metadata": {},
     "output_type": "execute_result"
    }
   ],
   "source": [
    "ak.DataPrepare.FuzzyMatchT.list_fuzzymatch_nlargests_df(\n",
    "    querying_listarr=list_1,\n",
    "    choice_list=list_2,\n",
    "    scorer=rapidfuzz.fuzz.ratio,\n",
    "    max_nums=3,\n",
    "    processes=10,\n",
    "    chunksize=3\n",
    ")"
   ],
   "metadata": {
    "collapsed": false
   }
  },
  {
   "cell_type": "code",
   "execution_count": 5,
   "outputs": [
    {
     "name": "stdout",
     "output_type": "stream",
     "text": [
      "\n",
      "Duplicates or Null/Na in querying are detected and automatically removed\n",
      "\n",
      "\n",
      "Duplicates or Null/Na in choices are detected and automatically removed\n",
      "\n"
     ]
    },
    {
     "name": "stderr",
     "output_type": "stream",
     "text": [
      "100%|██████████| 4/4 [00:00<00:00, 256.02it/s]\n"
     ]
    },
    {
     "data": {
      "text/plain": "                    origin_query                  match_list  match_score\n0           exploring new places        exporing new placess    95.000000\n1           exploring new places     embracin new experinces    60.465115\n2          enjoying the sunshine       enjoying the sunshien    95.238098\n3          enjoying the sunshine  adventurin into the unknow    51.063831\n4         learning something new       enjoying the sunshien    51.162792\n5         learning something new        learnin somthing new    95.238098\n6        connecting with friends       connectin with frends    95.454544\n7        connecting with friends     appreciatin the present    52.173912\n8     creating memorable moments    creatng memorable momnts    96.000000\n9     creating memorable moments     appreciatin the present    53.061226\n10   finding joy in small things  finding joy in smal things    98.113205\n11     embracing new experiences        exporing new placess    62.222221\n12     embracing new experiences     embracin new experinces    95.833336\n13  adventuring into the unknown       enjoying the sunshien    53.061226\n14  adventuring into the unknown  adventurin into the unknow    96.296295\n15      appreciating the present       enjoying the sunshien    53.333332\n16      appreciating the present       connectin with frends    53.333332\n17      appreciating the present     appreciatin the present    97.872337\n18  making the most of every day  makn the most of every day    96.296295",
      "text/html": "<div>\n<style scoped>\n    .dataframe tbody tr th:only-of-type {\n        vertical-align: middle;\n    }\n\n    .dataframe tbody tr th {\n        vertical-align: top;\n    }\n\n    .dataframe thead th {\n        text-align: right;\n    }\n</style>\n<table border=\"1\" class=\"dataframe\">\n  <thead>\n    <tr style=\"text-align: right;\">\n      <th></th>\n      <th>origin_query</th>\n      <th>match_list</th>\n      <th>match_score</th>\n    </tr>\n  </thead>\n  <tbody>\n    <tr>\n      <th>0</th>\n      <td>exploring new places</td>\n      <td>exporing new placess</td>\n      <td>95.000000</td>\n    </tr>\n    <tr>\n      <th>1</th>\n      <td>exploring new places</td>\n      <td>embracin new experinces</td>\n      <td>60.465115</td>\n    </tr>\n    <tr>\n      <th>2</th>\n      <td>enjoying the sunshine</td>\n      <td>enjoying the sunshien</td>\n      <td>95.238098</td>\n    </tr>\n    <tr>\n      <th>3</th>\n      <td>enjoying the sunshine</td>\n      <td>adventurin into the unknow</td>\n      <td>51.063831</td>\n    </tr>\n    <tr>\n      <th>4</th>\n      <td>learning something new</td>\n      <td>enjoying the sunshien</td>\n      <td>51.162792</td>\n    </tr>\n    <tr>\n      <th>5</th>\n      <td>learning something new</td>\n      <td>learnin somthing new</td>\n      <td>95.238098</td>\n    </tr>\n    <tr>\n      <th>6</th>\n      <td>connecting with friends</td>\n      <td>connectin with frends</td>\n      <td>95.454544</td>\n    </tr>\n    <tr>\n      <th>7</th>\n      <td>connecting with friends</td>\n      <td>appreciatin the present</td>\n      <td>52.173912</td>\n    </tr>\n    <tr>\n      <th>8</th>\n      <td>creating memorable moments</td>\n      <td>creatng memorable momnts</td>\n      <td>96.000000</td>\n    </tr>\n    <tr>\n      <th>9</th>\n      <td>creating memorable moments</td>\n      <td>appreciatin the present</td>\n      <td>53.061226</td>\n    </tr>\n    <tr>\n      <th>10</th>\n      <td>finding joy in small things</td>\n      <td>finding joy in smal things</td>\n      <td>98.113205</td>\n    </tr>\n    <tr>\n      <th>11</th>\n      <td>embracing new experiences</td>\n      <td>exporing new placess</td>\n      <td>62.222221</td>\n    </tr>\n    <tr>\n      <th>12</th>\n      <td>embracing new experiences</td>\n      <td>embracin new experinces</td>\n      <td>95.833336</td>\n    </tr>\n    <tr>\n      <th>13</th>\n      <td>adventuring into the unknown</td>\n      <td>enjoying the sunshien</td>\n      <td>53.061226</td>\n    </tr>\n    <tr>\n      <th>14</th>\n      <td>adventuring into the unknown</td>\n      <td>adventurin into the unknow</td>\n      <td>96.296295</td>\n    </tr>\n    <tr>\n      <th>15</th>\n      <td>appreciating the present</td>\n      <td>enjoying the sunshien</td>\n      <td>53.333332</td>\n    </tr>\n    <tr>\n      <th>16</th>\n      <td>appreciating the present</td>\n      <td>connectin with frends</td>\n      <td>53.333332</td>\n    </tr>\n    <tr>\n      <th>17</th>\n      <td>appreciating the present</td>\n      <td>appreciatin the present</td>\n      <td>97.872337</td>\n    </tr>\n    <tr>\n      <th>18</th>\n      <td>making the most of every day</td>\n      <td>makn the most of every day</td>\n      <td>96.296295</td>\n    </tr>\n  </tbody>\n</table>\n</div>"
     },
     "execution_count": 5,
     "metadata": {},
     "output_type": "execute_result"
    }
   ],
   "source": [
    "ak.DataPrepare.FuzzyMatchT.list_fuzzymatch_threshold_df(\n",
    "    querying_listarr=list_1,\n",
    "    choice_list=list_2,\n",
    "    scorer=rapidfuzz.fuzz.ratio,\n",
    "    threshold=50,\n",
    "    processes=10,\n",
    "    chunksize=3\n",
    ")"
   ],
   "metadata": {
    "collapsed": false
   }
  }
 ],
 "metadata": {
  "kernelspec": {
   "display_name": "Python 3",
   "language": "python",
   "name": "python3"
  },
  "language_info": {
   "codemirror_mode": {
    "name": "ipython",
    "version": 2
   },
   "file_extension": ".py",
   "mimetype": "text/x-python",
   "name": "python",
   "nbconvert_exporter": "python",
   "pygments_lexer": "ipython2",
   "version": "2.7.6"
  }
 },
 "nbformat": 4,
 "nbformat_minor": 0
}
